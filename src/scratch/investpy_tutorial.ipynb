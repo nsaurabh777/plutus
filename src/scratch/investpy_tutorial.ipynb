{
 "cells": [
  {
   "cell_type": "code",
   "execution_count": 1,
   "id": "29608242-48af-4fb5-9ca4-6ba05b279828",
   "metadata": {},
   "outputs": [
    {
     "name": "stdout",
     "output_type": "stream",
     "text": [
      "Requirement already satisfied: investpy in /Users/saurabhnair/Documents/personal/projects/py/EquityData/venv/lib/python3.9/site-packages (1.1.0)\n",
      "Requirement already satisfied: numpy>=1.17.2 in /Users/saurabhnair/Documents/personal/projects/py/EquityData/venv/lib/python3.9/site-packages (from investpy) (1.23.3)\n",
      "Requirement already satisfied: pandas>=0.25.1 in /Users/saurabhnair/Documents/personal/projects/py/EquityData/venv/lib/python3.9/site-packages (from investpy) (1.5.0)\n",
      "Requirement already satisfied: requests>=2.22.0 in /Users/saurabhnair/Documents/personal/projects/py/EquityData/venv/lib/python3.9/site-packages (from investpy) (2.28.1)\n",
      "Requirement already satisfied: Unidecode>=1.1.1 in /Users/saurabhnair/Documents/personal/projects/py/EquityData/venv/lib/python3.9/site-packages (from investpy) (1.3.4)\n",
      "Requirement already satisfied: pytz>=2019.3 in /Users/saurabhnair/Documents/personal/projects/py/EquityData/venv/lib/python3.9/site-packages (from investpy) (2022.2.1)\n",
      "Requirement already satisfied: setuptools>=41.2.0 in /Users/saurabhnair/Documents/personal/projects/py/EquityData/venv/lib/python3.9/site-packages (from investpy) (57.4.0)\n",
      "Requirement already satisfied: lxml>=4.4.1 in /Users/saurabhnair/Documents/personal/projects/py/EquityData/venv/lib/python3.9/site-packages (from investpy) (4.9.1)\n",
      "Requirement already satisfied: python-dateutil>=2.8.1 in /Users/saurabhnair/Documents/personal/projects/py/EquityData/venv/lib/python3.9/site-packages (from pandas>=0.25.1->investpy) (2.8.2)\n",
      "Requirement already satisfied: charset-normalizer<3,>=2 in /Users/saurabhnair/Documents/personal/projects/py/EquityData/venv/lib/python3.9/site-packages (from requests>=2.22.0->investpy) (2.1.1)\n",
      "Requirement already satisfied: idna<4,>=2.5 in /Users/saurabhnair/Documents/personal/projects/py/EquityData/venv/lib/python3.9/site-packages (from requests>=2.22.0->investpy) (3.4)\n",
      "Requirement already satisfied: certifi>=2017.4.17 in /Users/saurabhnair/Documents/personal/projects/py/EquityData/venv/lib/python3.9/site-packages (from requests>=2.22.0->investpy) (2022.9.24)\n",
      "Requirement already satisfied: urllib3<1.27,>=1.21.1 in /Users/saurabhnair/Documents/personal/projects/py/EquityData/venv/lib/python3.9/site-packages (from requests>=2.22.0->investpy) (1.26.12)\n",
      "Requirement already satisfied: six>=1.5 in /Users/saurabhnair/Documents/personal/projects/py/EquityData/venv/lib/python3.9/site-packages (from python-dateutil>=2.8.1->pandas>=0.25.1->investpy) (1.16.0)\n"
     ]
    }
   ],
   "source": [
    "!pip3 install --upgrade investpy"
   ]
  },
  {
   "cell_type": "code",
   "execution_count": 2,
   "id": "83db8ee4-5003-41b4-8cb0-279d27e5b5ab",
   "metadata": {},
   "outputs": [
    {
     "ename": "ConnectionError",
     "evalue": "ERR#0015: error 403, try again later.",
     "output_type": "error",
     "traceback": [
      "\u001b[0;31m---------------------------------------------------------------------------\u001b[0m",
      "\u001b[0;31mConnectionError\u001b[0m                           Traceback (most recent call last)",
      "Cell \u001b[0;32mIn [2], line 3\u001b[0m\n\u001b[1;32m      1\u001b[0m \u001b[38;5;28;01mimport\u001b[39;00m \u001b[38;5;21;01minvestpy\u001b[39;00m\n\u001b[0;32m----> 3\u001b[0m df \u001b[38;5;241m=\u001b[39m investpy\u001b[38;5;241m.\u001b[39mget_stock_historical_data(stock\u001b[38;5;241m=\u001b[39m\u001b[38;5;124m'\u001b[39m\u001b[38;5;124mAAPL\u001b[39m\u001b[38;5;124m'\u001b[39m,\n\u001b[1;32m      4\u001b[0m                                         country\u001b[38;5;241m=\u001b[39m\u001b[38;5;124m'\u001b[39m\u001b[38;5;124mUnited States\u001b[39m\u001b[38;5;124m'\u001b[39m,\n\u001b[1;32m      5\u001b[0m                                         from_date\u001b[38;5;241m=\u001b[39m\u001b[38;5;124m'\u001b[39m\u001b[38;5;124m01/01/2010\u001b[39m\u001b[38;5;124m'\u001b[39m,\n\u001b[1;32m      6\u001b[0m                                         to_date\u001b[38;5;241m=\u001b[39m\u001b[38;5;124m'\u001b[39m\u001b[38;5;124m01/01/2011\u001b[39m\u001b[38;5;124m'\u001b[39m)\n\u001b[1;32m      7\u001b[0m df\u001b[38;5;241m.\u001b[39mhead()\n",
      "File \u001b[0;32m~/Documents/personal/projects/py/EquityData/venv/lib/python3.9/site-packages/investpy/stocks.py:607\u001b[0m, in \u001b[0;36mget_stock_historical_data\u001b[0;34m(stock, country, from_date, to_date, as_json, order, interval)\u001b[0m\n\u001b[1;32m    604\u001b[0m req \u001b[38;5;241m=\u001b[39m requests\u001b[38;5;241m.\u001b[39mget(url, params\u001b[38;5;241m=\u001b[39mparams, headers\u001b[38;5;241m=\u001b[39mheaders)\n\u001b[1;32m    606\u001b[0m \u001b[38;5;28;01mif\u001b[39;00m req\u001b[38;5;241m.\u001b[39mstatus_code \u001b[38;5;241m!=\u001b[39m \u001b[38;5;241m200\u001b[39m:\n\u001b[0;32m--> 607\u001b[0m     \u001b[38;5;28;01mraise\u001b[39;00m \u001b[38;5;167;01mConnectionError\u001b[39;00m(\n\u001b[1;32m    608\u001b[0m         \u001b[38;5;124m\"\u001b[39m\u001b[38;5;124mERR#0015: error \u001b[39m\u001b[38;5;124m\"\u001b[39m \u001b[38;5;241m+\u001b[39m \u001b[38;5;28mstr\u001b[39m(req\u001b[38;5;241m.\u001b[39mstatus_code) \u001b[38;5;241m+\u001b[39m \u001b[38;5;124m\"\u001b[39m\u001b[38;5;124m, try again later.\u001b[39m\u001b[38;5;124m\"\u001b[39m\n\u001b[1;32m    609\u001b[0m     )\n\u001b[1;32m    611\u001b[0m data \u001b[38;5;241m=\u001b[39m req\u001b[38;5;241m.\u001b[39mjson()[\u001b[38;5;124m\"\u001b[39m\u001b[38;5;124mdata\u001b[39m\u001b[38;5;124m\"\u001b[39m]\n\u001b[1;32m    613\u001b[0m \u001b[38;5;28;01mif\u001b[39;00m \u001b[38;5;129;01mnot\u001b[39;00m data:\n",
      "\u001b[0;31mConnectionError\u001b[0m: ERR#0015: error 403, try again later."
     ]
    }
   ],
   "source": [
    "import investpy\n",
    "\n",
    "df = investpy.get_stock_historical_data(stock='AAPL',\n",
    "                                        country='United States',\n",
    "                                        from_date='01/01/2010',\n",
    "                                        to_date='01/01/2011')\n",
    "df.head()"
   ]
  },
  {
   "cell_type": "code",
   "execution_count": null,
   "id": "d5be7c1e-bd9b-410b-bf46-904b99058aa3",
   "metadata": {},
   "outputs": [],
   "source": [
    "search_result = investpy.search_quotes(text='apple', products=['stocks'],\n",
    "                                       countries=['united states'], n_results=1)\n",
    "print(search_result)\n"
   ]
  },
  {
   "cell_type": "code",
   "execution_count": null,
   "id": "a95103eb-7291-4136-a6df-1ba8d4ee1fbc",
   "metadata": {},
   "outputs": [],
   "source": [
    "\n",
    "data = investpy.get_crypto_historical_data(crypto='bitcoin',\n",
    "                                           from_date='01/01/2014',\n",
    "                                           to_date='01/01/2019')\n",
    "\n",
    "print(data.head())\n"
   ]
  },
  {
   "cell_type": "code",
   "execution_count": null,
   "id": "653edd5b-9059-4e2e-b493-48d9923ad3cf",
   "metadata": {},
   "outputs": [],
   "source": [
    "df = investpy.indices.get_index_historical_data(index='Nifty 50', country='India', from_date=\"01/01/2022\", to_date=\"10/01/2022\")\n",
    "df"
   ]
  },
  {
   "cell_type": "code",
   "execution_count": null,
   "id": "c3d9cb90-049d-4faa-a6a9-309ec8b2b2b4",
   "metadata": {},
   "outputs": [],
   "source": []
  }
 ],
 "metadata": {
  "kernelspec": {
   "display_name": "Python 3 (ipykernel)",
   "language": "python",
   "name": "python3"
  },
  "language_info": {
   "codemirror_mode": {
    "name": "ipython",
    "version": 3
   },
   "file_extension": ".py",
   "mimetype": "text/x-python",
   "name": "python",
   "nbconvert_exporter": "python",
   "pygments_lexer": "ipython3",
   "version": "3.9.12"
  }
 },
 "nbformat": 4,
 "nbformat_minor": 5
}
